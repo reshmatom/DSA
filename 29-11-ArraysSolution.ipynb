{
 "cells": [
  {
   "cell_type": "code",
   "execution_count": null,
   "id": "2438e2ec-c7fa-422a-b75f-8ace220f2f68",
   "metadata": {},
   "outputs": [],
   "source": [
    "1.Given an array, check if it contains any duplicates or not.\n",
    "arr = [1, 2, 4, 2, 5, 9]\n",
    "Output = True"
   ]
  },
  {
   "cell_type": "code",
   "execution_count": 3,
   "id": "5a7bc27d-db9c-4456-b887-c2dfca38699a",
   "metadata": {},
   "outputs": [
    {
     "name": "stdout",
     "output_type": "stream",
     "text": [
      "True\n"
     ]
    }
   ],
   "source": [
    "def contains_duplicates(arr1):\n",
    "    dup = set()  # Create an empty set to store seen elements\n",
    "    \n",
    "    for element in arr1:\n",
    "        if element in dup:\n",
    "            return True \n",
    "        dup.add(element) \n",
    "    \n",
    "    return False  # no duplicates\n",
    "\n",
    "arr1 = [1, 2, 4, 2, 5, 9]\n",
    "result = contains_duplicates(arr1)\n",
    "print(result)  # This will print True because the array contains duplicates\n"
   ]
  },
  {
   "cell_type": "code",
   "execution_count": null,
   "id": "6c940afe-fcbf-4952-a0d8-575d7cb4e49e",
   "metadata": {},
   "outputs": [],
   "source": [
    "#time complexity is O(n)\n",
    "#space complexity is O(n)"
   ]
  },
  {
   "cell_type": "code",
   "execution_count": null,
   "id": "c2562f5d-8403-488a-99a1-445e968c8a6a",
   "metadata": {},
   "outputs": [],
   "source": [
    "2. Given an array and an integer k, rotate the array to the right by k steps.\n",
    "arr = [1, 2, 3, 4, 5, 6, 7] k = 3\n",
    "Output = [5, 6, 7, 1, 2, 3, 4]"
   ]
  },
  {
   "cell_type": "code",
   "execution_count": 5,
   "id": "ceb72537-bc5c-44e9-ac2d-3a3e5cadc14f",
   "metadata": {},
   "outputs": [
    {
     "name": "stdout",
     "output_type": "stream",
     "text": [
      "[5, 6, 7, 1, 2, 3, 4]\n"
     ]
    }
   ],
   "source": [
    "def rotate_array(arr, k):\n",
    "    n = len(arr)\n",
    "    k = k % n  # Ensure k is within the range [0, n)\n",
    "\n",
    "    # Rotate the array using slicing\n",
    "    arr[:] = arr[n - k:] + arr[:n - k]\n",
    "\n",
    "arr = [1, 2, 3, 4, 5, 6, 7]\n",
    "k = 3\n",
    "rotate_array(arr, k)\n",
    "print(arr)\n"
   ]
  },
  {
   "cell_type": "code",
   "execution_count": null,
   "id": "11a0ee80-99f9-4360-99a9-d3a3df9d6858",
   "metadata": {},
   "outputs": [],
   "source": [
    "#time complexity is O(n)\n",
    "#space complexity is O(1)"
   ]
  },
  {
   "cell_type": "code",
   "execution_count": null,
   "id": "a708f8e4-8dcd-4e92-bc6e-9c5ca59a8aa8",
   "metadata": {},
   "outputs": [],
   "source": [
    "3. Reverse the given array in-place, means without using any extra data structure.\n",
    "arr = [2, 4, 5, 7, 9, 12]\n",
    "Output = [12, 9, 7, 5, 4, 2]"
   ]
  },
  {
   "cell_type": "code",
   "execution_count": 11,
   "id": "d6ebafe9-43ad-4ad7-9483-5d0b24259b4b",
   "metadata": {},
   "outputs": [
    {
     "name": "stdout",
     "output_type": "stream",
     "text": [
      "[12, 9, 7, 5, 4, 2]\n"
     ]
    }
   ],
   "source": [
    "def reverseList(arr, start, end): \n",
    "\twhile start < end: \n",
    "\t\tarr[start], arr[end] = arr[end], arr[start] \n",
    "\t\tstart += 1\n",
    "\t\tend -= 1\n",
    "\n",
    "# Driver function to test above function \n",
    "arr= [2, 4, 5, 7, 9, 12] \n",
    "reverseList(arr, 0, 5) \n",
    "print(arr) "
   ]
  },
  {
   "cell_type": "code",
   "execution_count": null,
   "id": "e8dda2b1-9607-48de-a574-177a666b8c1b",
   "metadata": {},
   "outputs": [],
   "source": [
    "#time complexity is O(n)\n",
    "#space complexity is O(1)"
   ]
  },
  {
   "cell_type": "code",
   "execution_count": null,
   "id": "cc80c158-b895-4633-a4b3-a5303bcac00d",
   "metadata": {},
   "outputs": [],
   "source": [
    "4. Given an array of integers, find the maximum element in an array\n",
    "arr = [10, 5, 20, 8, 15]\n",
    "Output = 20"
   ]
  },
  {
   "cell_type": "code",
   "execution_count": 1,
   "id": "8f4e96b6-ee13-47a6-8236-5bdc0790ba5c",
   "metadata": {},
   "outputs": [
    {
     "name": "stdout",
     "output_type": "stream",
     "text": [
      "The maximum element in the array is: 20\n"
     ]
    }
   ],
   "source": [
    "def find_max_element(arr):\n",
    "    if not arr:\n",
    "        return None  \n",
    "\n",
    "    max_element = arr[0]  \n",
    "\n",
    "    for element in arr:\n",
    "        if element > max_element:\n",
    "            max_element = element  \n",
    "\n",
    "    return max_element\n",
    "\n",
    "arr = [10, 5, 20, 8, 15]     \n",
    "max_element = find_max_element(arr)\n",
    "if max_element is not None:\n",
    "    print(\"The maximum element in the array is:\", max_element)\n",
    "else:\n",
    "    print(\"The array is empty.\")\n"
   ]
  },
  {
   "cell_type": "code",
   "execution_count": null,
   "id": "585e4844-7bf3-47bf-abe1-12c260358452",
   "metadata": {},
   "outputs": [],
   "source": [
    "##Time complexity: O(n)\n",
    "##Space complexity: O(1)"
   ]
  },
  {
   "cell_type": "code",
   "execution_count": null,
   "id": "736a8caa-bfe8-4344-b708-ee0def40ee28",
   "metadata": {},
   "outputs": [],
   "source": [
    "5. Given a sorted array, remove the duplicate element without using any extra data structure.\n",
    "arr = [1, 1, 2, 2, 2, 3, 3, 4, 4, 4, 5, 5]\n",
    "Output = [1, 2, 3, 4, 5]"
   ]
  },
  {
   "cell_type": "code",
   "execution_count": 4,
   "id": "f88ba556-7d10-4032-ad26-4fd548c90119",
   "metadata": {},
   "outputs": [
    {
     "name": "stdout",
     "output_type": "stream",
     "text": [
      "Array with duplicates removed: [1, 2, 3, 4, 5]\n"
     ]
    }
   ],
   "source": [
    "def remove_duplicates(arr):\n",
    "    if not arr:\n",
    "        return 0\n",
    "    index= 0\n",
    "\n",
    "    # Iterate through the array starting from the second element\n",
    "    for i in range(1, len(arr)):\n",
    "        # If the current element is different from the previous one, update the unique element\n",
    "        if arr[i] != arr[index]:\n",
    "            index += 1\n",
    "            arr[index] = arr[i]\n",
    "\n",
    "    del arr[index + 1:]\n",
    "    return len(arr)\n",
    "    \n",
    "arr =arr = [1, 1, 2, 2, 2, 3, 3, 4, 4, 4, 5, 5]\n",
    "new_length = remove_duplicates(arr)\n",
    "\n",
    "print(\"Array with duplicates removed:\", arr[:new_length])\n"
   ]
  },
  {
   "cell_type": "code",
   "execution_count": null,
   "id": "daadeca2-14b1-4f2d-9b40-2b7efb77db39",
   "metadata": {},
   "outputs": [],
   "source": [
    "##time complexity O(n)\n",
    "##space complexity O(1)"
   ]
  }
 ],
 "metadata": {
  "kernelspec": {
   "display_name": "Python 3 (ipykernel)",
   "language": "python",
   "name": "python3"
  },
  "language_info": {
   "codemirror_mode": {
    "name": "ipython",
    "version": 3
   },
   "file_extension": ".py",
   "mimetype": "text/x-python",
   "name": "python",
   "nbconvert_exporter": "python",
   "pygments_lexer": "ipython3",
   "version": "3.11.5"
  }
 },
 "nbformat": 4,
 "nbformat_minor": 5
}
