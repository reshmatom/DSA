{
 "cells": [
  {
   "cell_type": "markdown",
   "id": "5c519477",
   "metadata": {},
   "source": [
    "1.Reverse a singly linked list.\n",
    "Input: 1 -> 2 -> 3 -> 4 -> 5\n",
    "Output: 5 -> 4 -> 3 -> 2 -> 1"
   ]
  },
  {
   "cell_type": "code",
   "execution_count": 1,
   "id": "63c0bddb",
   "metadata": {},
   "outputs": [
    {
     "name": "stdout",
     "output_type": "stream",
     "text": [
      "Original list:\n",
      "1 -> 2 -> 3 -> 4 -> 5\n",
      "Reversed list:\n",
      "5 -> 4 -> 3 -> 2 -> 1\n"
     ]
    }
   ],
   "source": [
    "class ListNode:\n",
    "    def __init__(self, value=0, next=None):\n",
    "        self.value = value\n",
    "        self.next = next\n",
    "\n",
    "def reverse_linked_list(head):\n",
    "    prev = None\n",
    "    current = head\n",
    "    \n",
    "    while current is not None:\n",
    "        next_node = current.next  # Store next node\n",
    "        current.next = prev       # Reverse the link\n",
    "        prev = current            # Move prev to current\n",
    "        current = next_node       # Move to next node\n",
    "    \n",
    "    head = prev  # Update head to new first node\n",
    "    return head\n",
    "\n",
    "# Helper function to print the list\n",
    "def print_list(head):\n",
    "    while head:\n",
    "        print(head.value, end=' -> ' if head.next else '\\n')\n",
    "        head = head.next\n",
    "\n",
    "# Example usage\n",
    "head = ListNode(1, ListNode(2, ListNode(3, ListNode(4, ListNode(5)))))\n",
    "print(\"Original list:\")\n",
    "print_list(head)\n",
    "\n",
    "reversed_head = reverse_linked_list(head)\n",
    "print(\"Reversed list:\")\n",
    "print_list(reversed_head)\n"
   ]
  },
  {
   "cell_type": "markdown",
   "id": "b27aa011",
   "metadata": {},
   "source": [
    "2: Merge two sorted linked lists into one sorted linked list.\n",
    "Input: List 1: 1 -> 3 -> 5, List 2: 2 -> 4 -> 6\n",
    "Output: 1 -> 2 -> 3 -> 4 -> 5 -> 6"
   ]
  },
  {
   "cell_type": "code",
   "execution_count": 2,
   "id": "9cf16f8e",
   "metadata": {},
   "outputs": [
    {
     "name": "stdout",
     "output_type": "stream",
     "text": [
      "List 1:\n",
      "1 -> 3 -> 5\n",
      "List 2:\n",
      "2 -> 4 -> 6\n",
      "Merged List:\n",
      "1 -> 2 -> 3 -> 4 -> 5 -> 6\n"
     ]
    }
   ],
   "source": [
    "class ListNode:\n",
    "    def __init__(self, value=0, next=None):\n",
    "        self.value = value\n",
    "        self.next = next\n",
    "\n",
    "def merge_two_sorted_lists(l1, l2):\n",
    "    dummy = ListNode()  # Dummy node to simplify edge cases\n",
    "    current = dummy     # Pointer to build the new list\n",
    "\n",
    "    while l1 and l2:\n",
    "        if l1.value < l2.value:\n",
    "            current.next = l1\n",
    "            l1 = l1.next\n",
    "        else:\n",
    "            current.next = l2\n",
    "            l2 = l2.next\n",
    "        current = current.next\n",
    "\n",
    "    # If there are remaining nodes in either l1 or l2, append them\n",
    "    if l1:\n",
    "        current.next = l1\n",
    "    elif l2:\n",
    "        current.next = l2\n",
    "\n",
    "    return dummy.next  # Return the merged list starting from the next of dummy\n",
    "\n",
    "# Helper function to print the list\n",
    "def print_list(head):\n",
    "    while head:\n",
    "        print(head.value, end=' -> ' if head.next else '\\n')\n",
    "        head = head.next\n",
    "\n",
    "# Example usage\n",
    "list1 = ListNode(1, ListNode(3, ListNode(5)))\n",
    "list2 = ListNode(2, ListNode(4, ListNode(6)))\n",
    "\n",
    "print(\"List 1:\")\n",
    "print_list(list1)\n",
    "print(\"List 2:\")\n",
    "print_list(list2)\n",
    "\n",
    "merged_list = merge_two_sorted_lists(list1, list2)\n",
    "print(\"Merged List:\")\n",
    "print_list(merged_list)\n"
   ]
  },
  {
   "cell_type": "markdown",
   "id": "fc82ad9d",
   "metadata": {},
   "source": [
    "3: Remove the nth node from the end of a linked list.\n",
    "Input: 1 -> 2 -> 3 -> 4 -> 5, n = 2\n",
    "Output: 1 -> 2 -> 3 -> 5"
   ]
  },
  {
   "cell_type": "code",
   "execution_count": 3,
   "id": "0e28eb4b",
   "metadata": {},
   "outputs": [
    {
     "name": "stdout",
     "output_type": "stream",
     "text": [
      "Original list:\n",
      "1 -> 2 -> 3 -> 4 -> 5\n",
      "List after removing 2nd node from the end:\n",
      "1 -> 2 -> 3 -> 5\n"
     ]
    }
   ],
   "source": [
    "class ListNode:\n",
    "    def __init__(self, value=0, next=None):\n",
    "        self.value = value\n",
    "        self.next = next\n",
    "\n",
    "def remove_nth_from_end(head, n):\n",
    "    dummy = ListNode(0, head)  # Create a dummy node to simplify edge cases\n",
    "    first = dummy\n",
    "    second = dummy\n",
    "\n",
    "    # Move first pointer n+1 steps ahead to maintain the gap\n",
    "    for _ in range(n + 1):\n",
    "        first = first.next\n",
    "\n",
    "    # Move both pointers until first reaches the end\n",
    "    while first:\n",
    "        first = first.next\n",
    "        second = second.next\n",
    "\n",
    "    # Remove the nth node from end\n",
    "    second.next = second.next.next\n",
    "\n",
    "    return dummy.next  # Return the new head, which might be different if the head was removed\n",
    "\n",
    "# Helper function to print the list\n",
    "def print_list(head):\n",
    "    while head:\n",
    "        print(head.value, end=' -> ' if head.next else '\\n')\n",
    "        head = head.next\n",
    "\n",
    "# Example usage\n",
    "head = ListNode(1, ListNode(2, ListNode(3, ListNode(4, ListNode(5)))))\n",
    "print(\"Original list:\")\n",
    "print_list(head)\n",
    "\n",
    "new_head = remove_nth_from_end(head, 2)\n",
    "print(\"List after removing 2nd node from the end:\")\n",
    "print_list(new_head)\n"
   ]
  },
  {
   "cell_type": "markdown",
   "id": "25e5f73e",
   "metadata": {},
   "source": [
    "4: Find the intersection point of two linked lists.\n",
    "Input: List 1: 1 -> 2 -> 3 -> 4, List 2: 9 -> 8 -> 3 -> 4\n",
    "Output: Node with value 3"
   ]
  },
  {
   "cell_type": "code",
   "execution_count": 4,
   "id": "0cd260f3",
   "metadata": {},
   "outputs": [
    {
     "name": "stdout",
     "output_type": "stream",
     "text": [
      "List 1:\n",
      "1 -> 2 -> 3 -> 4\n",
      "List 2:\n",
      "9 -> 8 -> 3 -> 4\n",
      "Intersection node value: 3\n"
     ]
    }
   ],
   "source": [
    "class ListNode:\n",
    "    def __init__(self, value=0, next=None):\n",
    "        self.value = value\n",
    "        self.next = next\n",
    "\n",
    "def get_length(head):\n",
    "    length = 0\n",
    "    while head:\n",
    "        length += 1\n",
    "        head = head.next\n",
    "    return length\n",
    "\n",
    "def find_intersection(head1, head2):\n",
    "    len1 = get_length(head1)\n",
    "    len2 = get_length(head2)\n",
    "\n",
    "    # Align the start of the longer list\n",
    "    if len1 > len2:\n",
    "        for _ in range(len1 - len2):\n",
    "            head1 = head1.next\n",
    "    else:\n",
    "        for _ in range(len2 - len1):\n",
    "            head2 = head2.next\n",
    "\n",
    "    # Traverse both lists to find the intersection\n",
    "    while head1 and head2:\n",
    "        if head1 == head2:\n",
    "            return head1\n",
    "        head1 = head1.next\n",
    "        head2 = head2.next\n",
    "\n",
    "    return None  # No intersection\n",
    "\n",
    "# Helper function to print the list\n",
    "def print_list(head):\n",
    "    while head:\n",
    "        print(head.value, end=' -> ' if head.next else '\\n')\n",
    "        head = head.next\n",
    "\n",
    "# Example usage\n",
    "# Creating two intersecting linked lists:\n",
    "# List 1: 1 -> 2 -> 3 -> 4\n",
    "# List 2: 9 -> 8 -> 3 -> 4\n",
    "intersection = ListNode(3, ListNode(4))\n",
    "list1 = ListNode(1, ListNode(2, intersection))\n",
    "list2 = ListNode(9, ListNode(8, intersection))\n",
    "\n",
    "print(\"List 1:\")\n",
    "print_list(list1)\n",
    "print(\"List 2:\")\n",
    "print_list(list2)\n",
    "\n",
    "intersect_node = find_intersection(list1, list2)\n",
    "if intersect_node:\n",
    "    print(\"Intersection node value:\", intersect_node.value)\n",
    "else:\n",
    "    print(\"No intersection\")\n"
   ]
  },
  {
   "cell_type": "markdown",
   "id": "a912aca0",
   "metadata": {},
   "source": [
    "5: Remove duplicates from a sorted linked list.\n",
    "Input: 1 -> 1 -> 2 -> 3 -> 3\n",
    "Output: 1 -> 2 -> 3"
   ]
  },
  {
   "cell_type": "code",
   "execution_count": 5,
   "id": "93b245f9",
   "metadata": {},
   "outputs": [
    {
     "name": "stdout",
     "output_type": "stream",
     "text": [
      "Original list:\n",
      "1 -> 1 -> 2 -> 3 -> 3\n",
      "List after removing duplicates:\n",
      "1 -> 2 -> 3\n"
     ]
    }
   ],
   "source": [
    "class ListNode:\n",
    "    def __init__(self, value=0, next=None):\n",
    "        self.value = value\n",
    "        self.next = next\n",
    "\n",
    "def remove_duplicates(head):\n",
    "    current = head\n",
    "    \n",
    "    while current and current.next:\n",
    "        if current.value == current.next.value:\n",
    "            # Skip the next node\n",
    "            current.next = current.next.next\n",
    "        else:\n",
    "            # Move to the next node\n",
    "            current = current.next\n",
    "    \n",
    "    return head\n",
    "\n",
    "# Helper function to print the list\n",
    "def print_list(head):\n",
    "    while head:\n",
    "        print(head.value, end=' -> ' if head.next else '\\n')\n",
    "        head = head.next\n",
    "\n",
    "# Example usage\n",
    "head = ListNode(1, ListNode(1, ListNode(2, ListNode(3, ListNode(3)))))\n",
    "\n",
    "print(\"Original list:\")\n",
    "print_list(head)\n",
    "\n",
    "new_head = remove_duplicates(head)\n",
    "print(\"List after removing duplicates:\")\n",
    "print_list(new_head)\n"
   ]
  },
  {
   "cell_type": "markdown",
   "id": "f87d83fc",
   "metadata": {},
   "source": [
    "6: Add two numbers represented by linked lists (where each node contains a single digit).\n",
    "Input: List 1: 2 -> 4 -> 3, List 2: 5 -> 6 -> 4 (represents 342 + 465)\n",
    "Output: 7 -> 0 -> 8 (represents 807)"
   ]
  },
  {
   "cell_type": "code",
   "execution_count": 6,
   "id": "18c586b6",
   "metadata": {},
   "outputs": [
    {
     "name": "stdout",
     "output_type": "stream",
     "text": [
      "List 1:\n",
      "2 -> 4 -> 3\n",
      "List 2:\n",
      "5 -> 6 -> 4\n",
      "Resultant List:\n",
      "7 -> 0 -> 8\n"
     ]
    }
   ],
   "source": [
    "class ListNode:\n",
    "    def __init__(self, value=0, next=None):\n",
    "        self.value = value\n",
    "        self.next = next\n",
    "\n",
    "def add_two_numbers(l1, l2):\n",
    "    dummy = ListNode()  # Dummy node to simplify edge cases\n",
    "    current = dummy\n",
    "    carry = 0\n",
    "    \n",
    "    while l1 or l2 or carry:\n",
    "        val1 = l1.value if l1 else 0\n",
    "        val2 = l2.value if l2 else 0\n",
    "        \n",
    "        total = val1 + val2 + carry\n",
    "        carry = total // 10\n",
    "        current.next = ListNode(total % 10)\n",
    "        \n",
    "        current = current.next\n",
    "        if l1:\n",
    "            l1 = l1.next\n",
    "        if l2:\n",
    "            l2 = l2.next\n",
    "    \n",
    "    return dummy.next\n",
    "\n",
    "# Helper function to print the list\n",
    "def print_list(head):\n",
    "    while head:\n",
    "        print(head.value, end=' -> ' if head.next else '\\n')\n",
    "        head = head.next\n",
    "\n",
    "# Example usage\n",
    "list1 = ListNode(2, ListNode(4, ListNode(3)))  # Represents 342\n",
    "list2 = ListNode(5, ListNode(6, ListNode(4)))  # Represents 465\n",
    "\n",
    "print(\"List 1:\")\n",
    "print_list(list1)\n",
    "print(\"List 2:\")\n",
    "print_list(list2)\n",
    "\n",
    "result = add_two_numbers(list1, list2)\n",
    "print(\"Resultant List:\")\n",
    "print_list(result)  # Should represent 807\n"
   ]
  },
  {
   "cell_type": "markdown",
   "id": "28094cc2",
   "metadata": {},
   "source": [
    "7: Swap nodes in pairs in a linked list.\n",
    "Input: 1 -> 2 -> 3 -> 4\n",
    "Output: 2 -> 1 -> 4 -> 3"
   ]
  },
  {
   "cell_type": "code",
   "execution_count": 7,
   "id": "5d931306",
   "metadata": {},
   "outputs": [
    {
     "name": "stdout",
     "output_type": "stream",
     "text": [
      "Original list:\n",
      "1 -> 2 -> 3 -> 4\n",
      "List after swapping nodes in pairs:\n",
      "2 -> 1 -> 4 -> 3\n"
     ]
    }
   ],
   "source": [
    "class ListNode:\n",
    "    def __init__(self, value=0, next=None):\n",
    "        self.value = value\n",
    "        self.next = next\n",
    "\n",
    "def swap_pairs(head):\n",
    "    dummy = ListNode(-1)  # Create a dummy node to simplify swapping the head\n",
    "    dummy.next = head\n",
    "    prev = dummy  # This will be the last node of the swapped pair\n",
    "\n",
    "    while head and head.next:\n",
    "        # Nodes to be swapped\n",
    "        first = head\n",
    "        second = head.next\n",
    "\n",
    "        # Perform the swap\n",
    "        prev.next = second\n",
    "        first.next = second.next\n",
    "        second.next = first\n",
    "\n",
    "        # Move pointers\n",
    "        prev = first\n",
    "        head = first.next\n",
    "\n",
    "    return dummy.next\n",
    "\n",
    "# Helper function to print the list\n",
    "def print_list(head):\n",
    "    while head:\n",
    "        print(head.value, end=' -> ' if head.next else '\\n')\n",
    "        head = head.next\n",
    "\n",
    "# Example usage\n",
    "head = ListNode(1, ListNode(2, ListNode(3, ListNode(4))))\n",
    "\n",
    "print(\"Original list:\")\n",
    "print_list(head)\n",
    "\n",
    "swapped_head = swap_pairs(head)\n",
    "print(\"List after swapping nodes in pairs:\")\n",
    "print_list(swapped_head)\n"
   ]
  },
  {
   "cell_type": "markdown",
   "id": "a713f923",
   "metadata": {},
   "source": [
    "8: Reverse nodes in a linked list in groups of k.\n",
    "Input: 1 -> 2 -> 3 -> 4 -> 5, k = 3\n",
    "Output: 3 -> 2 -> 1 -> 4 -> 5"
   ]
  },
  {
   "cell_type": "code",
   "execution_count": null,
   "id": "c2f6da93",
   "metadata": {},
   "outputs": [],
   "source": [
    "class ListNode:\n",
    "    def __init__(self, value=0, next=None):\n",
    "        self.value = value\n",
    "        self.next = next\n",
    "\n",
    "def reverse_k_group(head, k):\n",
    "    def reverse_segment(start, end):\n",
    "        prev, curr = None, start\n",
    "        while curr != end:\n",
    "            next_node = curr.next\n",
    "            curr.next = prev\n",
    "            prev = curr\n",
    "            curr = next_node\n",
    "        return prev\n",
    "\n",
    "    dummy = ListNode(0)\n",
    "    dummy.next = head\n",
    "    group_prev = dummy\n",
    "\n",
    "    while True:\n",
    "        kth = group_prev\n",
    "        # Check if there are at least k nodes left in the list\n",
    "        for _ in range(k):\n",
    "            kth = kth.next\n",
    "            if not kth:\n",
    "                return dummy.next\n",
    "\n",
    "        group_next = kth.next\n",
    "        # Reverse k nodes\n",
    "        prev = group_prev.next\n",
    "        kth.next = None\n",
    "        group_prev.next = reverse_segment(prev, group_next)\n",
    "        prev.next = group_next\n",
    "\n",
    "        # Move to the next group\n",
    "        group_prev = prev\n",
    "\n",
    "# Helper function to print the list\n",
    "def print_list(head):\n",
    "    while head:\n",
    "        print(head.value, end=' -> ' if head.next else '\\n')\n",
    "        head = head.next\n",
    "\n",
    "# Example usage\n",
    "head = ListNode(1, ListNode(2, ListNode(3, ListNode(4, ListNode(5)))))\n",
    "\n",
    "print(\"Original list:\")\n",
    "print_list(head)\n",
    "\n",
    "reversed_head = reverse_k_group(head, 3)\n",
    "print(\"List after reversing nodes in groups of 3:\")\n",
    "print_list(reversed_head)\n"
   ]
  },
  {
   "cell_type": "markdown",
   "id": "4935205e",
   "metadata": {},
   "source": [
    "9: Determine if a linked list is a palindrome.\n",
    "Input: 1 -> 2 -> 2 -> 1\n",
    "Output: True"
   ]
  },
  {
   "cell_type": "code",
   "execution_count": 11,
   "id": "72bc119f",
   "metadata": {},
   "outputs": [
    {
     "name": "stdout",
     "output_type": "stream",
     "text": [
      "Original list:\n",
      "1 -> 2 -> 2 -> 1\n",
      "Is palindrome: True\n"
     ]
    }
   ],
   "source": [
    "class ListNode:\n",
    "    def __init__(self, value=0, next=None):\n",
    "        self.value = value\n",
    "        self.next = next\n",
    "\n",
    "def is_palindrome(head):\n",
    "    def reverse_list(head):\n",
    "        prev = None\n",
    "        while head:\n",
    "            next_node = head.next\n",
    "            head.next = prev\n",
    "            prev = head\n",
    "            head = next_node\n",
    "        return prev\n",
    "\n",
    "    def find_middle(head):\n",
    "        slow = fast = head\n",
    "        while fast and fast.next:\n",
    "            slow = slow.next\n",
    "            fast = fast.next.next\n",
    "        return slow\n",
    "\n",
    "    # Edge case: empty list or single node\n",
    "    if not head or not head.next:\n",
    "        return True\n",
    "\n",
    "    # Find the middle node\n",
    "    middle = find_middle(head)\n",
    "\n",
    "    # Reverse the second half of the list\n",
    "    second_half = reverse_list(middle)\n",
    "\n",
    "    # Compare the first half and the reversed second half\n",
    "    first_half = head\n",
    "    second_half_copy = second_half\n",
    "    is_palindrome = True\n",
    "\n",
    "    while second_half_copy:\n",
    "        if first_half.value != second_half_copy.value:\n",
    "            is_palindrome = False\n",
    "            break\n",
    "        first_half = first_half.next\n",
    "        second_half_copy = second_half_copy.next\n",
    "\n",
    "    # Restore the list (optional)\n",
    "    reverse_list(second_half)\n",
    "\n",
    "    return is_palindrome\n",
    "\n",
    "# Helper function to print the list\n",
    "def print_list(head):\n",
    "    while head:\n",
    "        print(head.value, end=' -> ' if head.next else '\\n')\n",
    "        head = head.next\n",
    "\n",
    "# Example usage\n",
    "head = ListNode(1, ListNode(2, ListNode(2, ListNode(1))))\n",
    "\n",
    "print(\"Original list:\")\n",
    "print_list(head)\n",
    "\n",
    "print(\"Is palindrome:\", is_palindrome(head))  # Output should be True\n"
   ]
  },
  {
   "cell_type": "markdown",
   "id": "f8eb2f75",
   "metadata": {},
   "source": [
    "10: Rotate a linked list to the right by k places.\n",
    "Input: 1 -> 2 -> 3 -> 4 -> 5, k = 2\n",
    "Output: 4 -> 5 -> 1 -> 2 -> 3"
   ]
  },
  {
   "cell_type": "code",
   "execution_count": 12,
   "id": "74e2eac8",
   "metadata": {},
   "outputs": [
    {
     "name": "stdout",
     "output_type": "stream",
     "text": [
      "Original list:\n",
      "1 -> 2 -> 3 -> 4 -> 5\n",
      "List after rotating right by 2 places:\n",
      "4 -> 5 -> 1 -> 2 -> 3\n"
     ]
    }
   ],
   "source": [
    "class ListNode:\n",
    "    def __init__(self, value=0, next=None):\n",
    "        self.value = value\n",
    "        self.next = next\n",
    "\n",
    "def rotate_right(head, k):\n",
    "    # Edge case: empty list or single node\n",
    "    if not head or k == 0:\n",
    "        return head\n",
    "\n",
    "    # Find the length of the list\n",
    "    length = 1\n",
    "    old_tail = head\n",
    "    while old_tail.next:\n",
    "        old_tail = old_tail.next\n",
    "        length += 1\n",
    "\n",
    "    # Normalize k to avoid unnecessary rotations\n",
    "    k = k % length\n",
    "    if k == 0:\n",
    "        return head\n",
    "\n",
    "    # Find the new tail, which is length - k nodes from the start\n",
    "    new_tail = head\n",
    "    for _ in range(length - k - 1):\n",
    "        new_tail = new_tail.next\n",
    "\n",
    "    # Perform the rotation\n",
    "    new_head = new_tail.next\n",
    "    new_tail.next = None\n",
    "    old_tail.next = head\n",
    "\n",
    "    return new_head\n",
    "\n",
    "# Helper function to print the list\n",
    "def print_list(head):\n",
    "    while head:\n",
    "        print(head.value, end=' -> ' if head.next else '\\n')\n",
    "        head = head.next\n",
    "\n",
    "# Example usage\n",
    "head = ListNode(1, ListNode(2, ListNode(3, ListNode(4, ListNode(5)))))\n",
    "\n",
    "print(\"Original list:\")\n",
    "print_list(head)\n",
    "\n",
    "rotated_head = rotate_right(head, 2)\n",
    "print(\"List after rotating right by 2 places:\")\n",
    "print_list(rotated_head)\n"
   ]
  },
  {
   "cell_type": "markdown",
   "id": "b93839bd",
   "metadata": {},
   "source": [
    "11: Flatten a multilevel doubly linked list.\n",
    "Input: 1 <-> 2 <-> 3 <-> 7 <-> 8 <-> 11 -> 12, 4 <-> 5 -> 9 -> 10, 6 -> 13\n",
    "Output: 1 <-> 2 <-> 3 <-> 4 <-> 5 <-> 6 <-> 7 <-> 8 <-> 9 <-> 10 <-> 11 <-> 12 <-> 13"
   ]
  },
  {
   "cell_type": "code",
   "execution_count": null,
   "id": "b042fad2",
   "metadata": {},
   "outputs": [
    {
     "name": "stdout",
     "output_type": "stream",
     "text": [
      "Original multilevel doubly linked list:\n",
      "1 <-> 2 <-> 3 <-> 7 <-> 8 <-> 11 <-> 12\n"
     ]
    }
   ],
   "source": [
    "class ListNode:\n",
    "    def __init__(self, value=0, next=None, prev=None, child=None):\n",
    "        self.value = value\n",
    "        self.next = next\n",
    "        self.prev = prev\n",
    "        self.child = child\n",
    "\n",
    "def flatten(head):\n",
    "    def flatten_recursive(node):\n",
    "        current = node\n",
    "        last = None\n",
    "        \n",
    "        while current:\n",
    "            if current.child:\n",
    "                # Flatten the child list\n",
    "                child = current.child\n",
    "                child_last = flatten_recursive(child)\n",
    "                \n",
    "                # Connect current node to child list\n",
    "                current.next = child\n",
    "                child.prev = current\n",
    "                current.child = None\n",
    "                \n",
    "                # Connect the end of the child list to the next node\n",
    "                if child_last:\n",
    "                    child_last.next = current.next\n",
    "                if current.next:\n",
    "                    current.next.prev = child_last\n",
    "                \n",
    "                # Move current to the end of the flattened child list\n",
    "                last = child_last\n",
    "            else:\n",
    "                last = current\n",
    "            \n",
    "            current = current.next\n",
    "        \n",
    "        return last\n",
    "    \n",
    "    if not head:\n",
    "        return None\n",
    "    \n",
    "    flatten_recursive(head)\n",
    "    return head\n",
    "\n",
    "# Helper function to print the flattened list\n",
    "def print_list(head):\n",
    "    while head:\n",
    "        print(head.value, end=' <-> ' if head.next else '\\n')\n",
    "        head = head.next\n",
    "\n",
    "# Example usage\n",
    "# Constructing the multilevel doubly linked list:\n",
    "# Level 1: 1 <-> 2 <-> 3 <-> 7 <-> 8 <-> 11 -> 12\n",
    "# Level 2: 4 <-> 5 -> 9 -> 10\n",
    "# Level 3: 6 -> 13\n",
    "\n",
    "node1 = ListNode(1)\n",
    "node2 = ListNode(2)\n",
    "node3 = ListNode(3)\n",
    "node7 = ListNode(7)\n",
    "node8 = ListNode(8)\n",
    "node11 = ListNode(11)\n",
    "node12 = ListNode(12)\n",
    "\n",
    "node4 = ListNode(4)\n",
    "node5 = ListNode(5)\n",
    "node9 = ListNode(9)\n",
    "node10 = ListNode(10)\n",
    "\n",
    "node6 = ListNode(6)\n",
    "node13 = ListNode(13)\n",
    "\n",
    "# Setting up the connections for level 1\n",
    "node1.next = node2\n",
    "node2.prev = node1\n",
    "node2.next = node3\n",
    "node3.prev = node2\n",
    "node3.next = node7\n",
    "node7.prev = node3\n",
    "node7.next = node8\n",
    "node8.prev = node7\n",
    "node8.next = node11\n",
    "node11.prev = node8\n",
    "node11.next = node12\n",
    "node12.prev = node11\n",
    "\n",
    "# Setting up the connections for level 2\n",
    "node4.next = node5\n",
    "node5.prev = node4\n",
    "node5.next = node9\n",
    "node9.prev = node5\n",
    "node9.next = node10\n",
    "node10.prev = node9\n",
    "\n",
    "# Setting up the connections for level 3\n",
    "node6.next = node13\n",
    "node13.prev = node6\n",
    "\n",
    "# Linking level 2 to level 1\n",
    "node3.child = node4\n",
    "\n",
    "# Linking level 1 to level 3\n",
    "node8.child = node6\n",
    "\n",
    "print(\"Original multilevel doubly linked list:\")\n",
    "print_list(node1)\n",
    "\n",
    "flattened_head = flatten(node1)\n",
    "print(\"Flattened doubly linked list:\")\n",
    "print_list(flattened_head)\n"
   ]
  },
  {
   "cell_type": "markdown",
   "id": "3985bb8f",
   "metadata": {},
   "source": [
    "12: Rearrange a linked list such that all even positioned nodes are placed at the end.\n",
    "Input: 1 -> 2 -> 3 -> 4 -> 5\n",
    "Output: 1 -> 3 -> 5 -> 2 -> 4"
   ]
  },
  {
   "cell_type": "code",
   "execution_count": 13,
   "id": "7b6d8205",
   "metadata": {},
   "outputs": [
    {
     "name": "stdout",
     "output_type": "stream",
     "text": [
      "Original list:\n",
      "1 -> 2 -> 3 -> 4 -> 5\n",
      "List after rearranging nodes:\n",
      "1 -> 3 -> 5 -> 2 -> 4\n"
     ]
    }
   ],
   "source": [
    "class ListNode:\n",
    "    def __init__(self, value=0, next=None):\n",
    "        self.value = value\n",
    "        self.next = next\n",
    "\n",
    "def rearrange_list(head):\n",
    "    if not head or not head.next:\n",
    "        return head\n",
    "\n",
    "    # Initialize pointers for odd and even positions\n",
    "    odd_head = ListNode(0)\n",
    "    even_head = ListNode(0)\n",
    "    odd_tail = odd_head\n",
    "    even_tail = even_head\n",
    "\n",
    "    # Use a pointer to traverse the original list\n",
    "    current = head\n",
    "    is_odd = True\n",
    "\n",
    "    while current:\n",
    "        if is_odd:\n",
    "            odd_tail.next = current\n",
    "            odd_tail = odd_tail.next\n",
    "        else:\n",
    "            even_tail.next = current\n",
    "            even_tail = even_tail.next\n",
    "        is_odd = not is_odd\n",
    "        current = current.next\n",
    "\n",
    "    # End of the even list should be None\n",
    "    even_tail.next = None\n",
    "\n",
    "    # Concatenate odd list with even list\n",
    "    odd_tail.next = even_head.next\n",
    "\n",
    "    return odd_head.next\n",
    "\n",
    "# Helper function to print the list\n",
    "def print_list(head):\n",
    "    while head:\n",
    "        print(head.value, end=' -> ' if head.next else '\\n')\n",
    "        head = head.next\n",
    "\n",
    "# Example usage\n",
    "head = ListNode(1, ListNode(2, ListNode(3, ListNode(4, ListNode(5)))))\n",
    "\n",
    "print(\"Original list:\")\n",
    "print_list(head)\n",
    "\n",
    "rearranged_head = rearrange_list(head)\n",
    "print(\"List after rearranging nodes:\")\n",
    "print_list(rearranged_head)\n"
   ]
  },
  {
   "cell_type": "markdown",
   "id": "8d18b153",
   "metadata": {},
   "source": [
    "13: Given a non-negative number represented as a linked list, add one to it.\n",
    "Input: 1 -> 2 -> 3 (represents the number 123)\n",
    "Output: 1 -> 2 -> 4 (represents the number 124)"
   ]
  },
  {
   "cell_type": "code",
   "execution_count": 14,
   "id": "fa231710",
   "metadata": {},
   "outputs": [
    {
     "name": "stdout",
     "output_type": "stream",
     "text": [
      "Original list:\n",
      "1 -> 2 -> 3\n",
      "List after adding one:\n",
      "1 -> 2 -> 4\n"
     ]
    }
   ],
   "source": [
    "class ListNode:\n",
    "    def __init__(self, value=0, next=None):\n",
    "        self.value = value\n",
    "        self.next = next\n",
    "\n",
    "def reverse_list(head):\n",
    "    prev = None\n",
    "    while head:\n",
    "        next_node = head.next\n",
    "        head.next = prev\n",
    "        prev = head\n",
    "        head = next_node\n",
    "    return prev\n",
    "\n",
    "def add_one(head):\n",
    "    # Reverse the list\n",
    "    head = reverse_list(head)\n",
    "    \n",
    "    # Add one to the reversed list\n",
    "    current = head\n",
    "    carry = 1\n",
    "    while current and carry:\n",
    "        new_value = current.value + carry\n",
    "        if new_value >= 10:\n",
    "            carry = 1\n",
    "            current.value = new_value % 10\n",
    "        else:\n",
    "            carry = 0\n",
    "            current.value = new_value\n",
    "        if current.next is None and carry:\n",
    "            current.next = ListNode(carry)\n",
    "            carry = 0\n",
    "        current = current.next\n",
    "\n",
    "    # Reverse the list back to original order\n",
    "    head = reverse_list(head)\n",
    "    return head\n",
    "\n",
    "# Helper function to print the list\n",
    "def print_list(head):\n",
    "    while head:\n",
    "        print(head.value, end=' -> ' if head.next else '\\n')\n",
    "        head = head.next\n",
    "\n",
    "# Example usage\n",
    "head = ListNode(1, ListNode(2, ListNode(3)))\n",
    "\n",
    "print(\"Original list:\")\n",
    "print_list(head)\n",
    "\n",
    "new_head = add_one(head)\n",
    "print(\"List after adding one:\")\n",
    "print_list(new_head)\n"
   ]
  },
  {
   "cell_type": "markdown",
   "id": "f0d8bbe2",
   "metadata": {},
   "source": [
    "14: Given a sorted array and a target value, return the index if the target is found. If not, return the\n",
    "index where it would be inserted.\n",
    "Input: nums = [1, 3, 5, 6], target = 5\n",
    "Output: 2"
   ]
  },
  {
   "cell_type": "code",
   "execution_count": 15,
   "id": "caede7ca",
   "metadata": {},
   "outputs": [
    {
     "name": "stdout",
     "output_type": "stream",
     "text": [
      "Index: 2\n"
     ]
    }
   ],
   "source": [
    "def search_insert(nums, target):\n",
    "    left, right = 0, len(nums) - 1\n",
    "\n",
    "    while left <= right:\n",
    "        mid = (left + right) // 2\n",
    "        if nums[mid] == target:\n",
    "            return mid\n",
    "        elif nums[mid] < target:\n",
    "            left = mid + 1\n",
    "        else:\n",
    "            right = mid - 1\n",
    "\n",
    "    return left\n",
    "\n",
    "# Example usage\n",
    "nums = [1, 3, 5, 6]\n",
    "target = 5\n",
    "\n",
    "print(\"Index:\", search_insert(nums, target))  # Output should be 2\n"
   ]
  },
  {
   "cell_type": "markdown",
   "id": "aae6141a",
   "metadata": {},
   "source": [
    "15: Find the minimum element in a rotated sorted array.\n",
    "Input: [4, 5, 6, 7, 0, 1, 2]\n",
    "Output: 0"
   ]
  },
  {
   "cell_type": "code",
   "execution_count": 16,
   "id": "8d48a893",
   "metadata": {},
   "outputs": [
    {
     "name": "stdout",
     "output_type": "stream",
     "text": [
      "Minimum element: 0\n"
     ]
    }
   ],
   "source": [
    "def find_min_in_rotated_sorted_array(nums):\n",
    "    left, right = 0, len(nums) - 1\n",
    "\n",
    "    while left < right:\n",
    "        mid = (left + right) // 2\n",
    "        \n",
    "        if nums[mid] > nums[right]:\n",
    "            # Minimum must be in the right half\n",
    "            left = mid + 1\n",
    "        else:\n",
    "            # Minimum is in the left half or at mid\n",
    "            right = mid\n",
    "\n",
    "    return nums[left]\n",
    "\n",
    "# Example usage\n",
    "nums = [4, 5, 6, 7, 0, 1, 2]\n",
    "print(\"Minimum element:\", find_min_in_rotated_sorted_array(nums))  # Output should be 0\n"
   ]
  },
  {
   "cell_type": "markdown",
   "id": "ed1ef366",
   "metadata": {},
   "source": [
    "16: Search for a target value in a rotated sorted array.\n",
    "Input: nums = [4, 5, 6, 7, 0, 1, 2], target = 0\n",
    "Output: 4"
   ]
  },
  {
   "cell_type": "code",
   "execution_count": 17,
   "id": "94614fc3",
   "metadata": {},
   "outputs": [
    {
     "name": "stdout",
     "output_type": "stream",
     "text": [
      "Index of target: 4\n"
     ]
    }
   ],
   "source": [
    "def search_in_rotated_sorted_array(nums, target):\n",
    "    left, right = 0, len(nums) - 1\n",
    "\n",
    "    while left <= right:\n",
    "        mid = (left + right) // 2\n",
    "\n",
    "        if nums[mid] == target:\n",
    "            return mid\n",
    "        \n",
    "        if nums[left] <= nums[mid]:  # Left half is sorted\n",
    "            if nums[left] <= target < nums[mid]:\n",
    "                right = mid - 1\n",
    "            else:\n",
    "                left = mid + 1\n",
    "        else:  # Right half is sorted\n",
    "            if nums[mid] < target <= nums[right]:\n",
    "                left = mid + 1\n",
    "            else:\n",
    "                right = mid - 1\n",
    "\n",
    "    return -1\n",
    "\n",
    "# Example usage\n",
    "nums = [4, 5, 6, 7, 0, 1, 2]\n",
    "target = 0\n",
    "\n",
    "print(\"Index of target:\", search_in_rotated_sorted_array(nums, target))  # Output should be 4\n"
   ]
  },
  {
   "cell_type": "markdown",
   "id": "820eee7e",
   "metadata": {},
   "source": [
    "17: Find the peak element in an array. A peak element is greater than its neighbors.\n",
    "Input: nums = [1, 2, 3, 1]\n",
    "Output: 2 (index of peak element)"
   ]
  },
  {
   "cell_type": "code",
   "execution_count": 18,
   "id": "3eb87d50",
   "metadata": {},
   "outputs": [
    {
     "name": "stdout",
     "output_type": "stream",
     "text": [
      "Index of peak element: 2\n"
     ]
    }
   ],
   "source": [
    "def find_peak_element(nums):\n",
    "    left, right = 0, len(nums) - 1\n",
    "\n",
    "    while left <= right:\n",
    "        mid = (left + right) // 2\n",
    "        \n",
    "        # Check if mid is a peak element\n",
    "        if (mid == 0 or nums[mid] > nums[mid - 1]) and (mid == len(nums) - 1 or nums[mid] > nums[mid + 1]):\n",
    "            return mid\n",
    "        \n",
    "        # If the element on the left is greater, move to the left half\n",
    "        if mid > 0 and nums[mid] < nums[mid - 1]:\n",
    "            right = mid - 1\n",
    "        else:\n",
    "            # Otherwise, move to the right half\n",
    "            left = mid + 1\n",
    "    \n",
    "    return -1\n",
    "\n",
    "# Example usage\n",
    "nums = [1, 2, 3, 1]\n",
    "print(\"Index of peak element:\", find_peak_element(nums))  # Output should be 2\n"
   ]
  },
  {
   "cell_type": "markdown",
   "id": "50f4e02c",
   "metadata": {},
   "source": [
    "18: Given a m x n matrix where each row and column is sorted in ascending order, count the number\n",
    "of negative numbers.\n",
    "Input: grid = [[4, 3, 2, -1], [3, 2, 1, -1], [1, 1, -1, -2], [-1, -1, -2, -3]]\n",
    "Output: 8"
   ]
  },
  {
   "cell_type": "code",
   "execution_count": 19,
   "id": "4cc56233",
   "metadata": {},
   "outputs": [
    {
     "name": "stdout",
     "output_type": "stream",
     "text": [
      "Number of negative numbers: 8\n"
     ]
    }
   ],
   "source": [
    "def count_negatives(grid):\n",
    "    if not grid or not grid[0]:\n",
    "        return 0\n",
    "    \n",
    "    m, n = len(grid), len(grid[0])\n",
    "    count = 0\n",
    "    row, col = 0, n - 1  # Start at the top-right corner\n",
    "    \n",
    "    while row < m and col >= 0:\n",
    "        if grid[row][col] < 0:\n",
    "            # All elements in this column from row to end are negative\n",
    "            count += (m - row)\n",
    "            col -= 1\n",
    "        else:\n",
    "            row += 1\n",
    "    \n",
    "    return count\n",
    "\n",
    "# Example usage\n",
    "grid = [[4, 3, 2, -1], [3, 2, 1, -1], [1, 1, -1, -2], [-1, -1, -2, -3]]\n",
    "print(\"Number of negative numbers:\", count_negatives(grid))  # Output should be 8\n"
   ]
  },
  {
   "cell_type": "markdown",
   "id": "e2289307",
   "metadata": {},
   "source": [
    "19: Given a 2D matrix sorted in ascending order in each row, and the first integer of each row is\n",
    "greater than the last integer of the previous row, determine if a target value is present in the matrix.\n",
    "Input: matrix = [[1, 3, 5, 7], [10, 11, 16, 20], [23, 30, 34, 60]], target = 3\n",
    "Output: True"
   ]
  },
  {
   "cell_type": "code",
   "execution_count": 20,
   "id": "1d821378",
   "metadata": {},
   "outputs": [
    {
     "name": "stdout",
     "output_type": "stream",
     "text": [
      "Target found: True\n"
     ]
    }
   ],
   "source": [
    "def search_matrix(matrix, target):\n",
    "    if not matrix or not matrix[0]:\n",
    "        return False\n",
    "    \n",
    "    m, n = len(matrix), len(matrix[0])\n",
    "    row, col = 0, n - 1  # Start at the top-right corner\n",
    "    \n",
    "    while row < m and col >= 0:\n",
    "        if matrix[row][col] == target:\n",
    "            return True\n",
    "        elif matrix[row][col] > target:\n",
    "            col -= 1\n",
    "        else:\n",
    "            row += 1\n",
    "    \n",
    "    return False\n",
    "\n",
    "# Example usage\n",
    "matrix = [[1, 3, 5, 7], [10, 11, 16, 20], [23, 30, 34, 60]]\n",
    "target = 3\n",
    "\n",
    "print(\"Target found:\", search_matrix(matrix, target))  # Output should be True\n"
   ]
  },
  {
   "cell_type": "markdown",
   "id": "acbf7391",
   "metadata": {},
   "source": [
    "20: Find Median in Two Sorted Arrays\n",
    "Problem: Given two sorted arrays, find the median of the combined sorted array.\n",
    "Input: nums1 = [1, 3], nums2 = [2]\n",
    "Output: 2.0"
   ]
  },
  {
   "cell_type": "code",
   "execution_count": 21,
   "id": "c8c3ed1d",
   "metadata": {},
   "outputs": [
    {
     "name": "stdout",
     "output_type": "stream",
     "text": [
      "Median is: 2\n"
     ]
    }
   ],
   "source": [
    "def find_median_sorted_arrays(nums1, nums2):\n",
    "    # Ensure nums1 is the smaller array\n",
    "    if len(nums1) > len(nums2):\n",
    "        nums1, nums2 = nums2, nums1\n",
    "\n",
    "    m, n = len(nums1), len(nums2)\n",
    "    imin, imax, half_len = 0, m, (m + n + 1) // 2\n",
    "\n",
    "    while imin <= imax:\n",
    "        i = (imin + imax) // 2\n",
    "        j = half_len - i\n",
    "\n",
    "        if i < m and nums2[j - 1] > nums1[i]:\n",
    "            # Increase i\n",
    "            imin = i + 1\n",
    "        elif i > 0 and nums1[i - 1] > nums2[j]:\n",
    "            # Decrease i\n",
    "            imax = i - 1\n",
    "        else:\n",
    "            # i is perfect\n",
    "            max_of_left = 0\n",
    "            if i == 0:\n",
    "                max_of_left = nums2[j - 1]\n",
    "            elif j == 0:\n",
    "                max_of_left = nums1[i - 1]\n",
    "            else:\n",
    "                max_of_left = max(nums1[i - 1], nums2[j - 1])\n",
    "\n",
    "            if (m + n) % 2 == 1:\n",
    "                return max_of_left\n",
    "\n",
    "            min_of_right = 0\n",
    "            if i == m:\n",
    "                min_of_right = nums2[j]\n",
    "            elif j == n:\n",
    "                min_of_right = nums1[i]\n",
    "            else:\n",
    "                min_of_right = min(nums1[i], nums2[j])\n",
    "\n",
    "            return (max_of_left + min_of_right) / 2.0\n",
    "\n",
    "# Example usage\n",
    "nums1 = [1, 3]\n",
    "nums2 = [2]\n",
    "print(\"Median is:\", find_median_sorted_arrays(nums1, nums2))  # Output should be 2.0\n"
   ]
  },
  {
   "cell_type": "markdown",
   "id": "b06a757c",
   "metadata": {},
   "source": [
    "21: Given a sorted character array and a target letter, find the smallest letter in the array that is\n",
    "greater than the target.\n",
    "Input: letters = ['c', 'f', 'j'], target = a\n",
    "Output: 'c'"
   ]
  },
  {
   "cell_type": "code",
   "execution_count": 22,
   "id": "6f18093a",
   "metadata": {},
   "outputs": [
    {
     "name": "stdout",
     "output_type": "stream",
     "text": [
      "Smallest letter greater than target: c\n"
     ]
    }
   ],
   "source": [
    "def next_greatest_letter(letters, target):\n",
    "    left, right = 0, len(letters) - 1\n",
    "    \n",
    "    while left <= right:\n",
    "        mid = (left + right) // 2\n",
    "        \n",
    "        if letters[mid] <= target:\n",
    "            left = mid + 1\n",
    "        else:\n",
    "            right = mid - 1\n",
    "    \n",
    "    # After the loop, left is the smallest index where letters[left] > target\n",
    "    return letters[left % len(letters)]\n",
    "\n",
    "# Example usage\n",
    "letters = ['c', 'f', 'j']\n",
    "target = 'a'\n",
    "print(\"Smallest letter greater than target:\", next_greatest_letter(letters, target))  # Output should be 'c'\n"
   ]
  },
  {
   "cell_type": "markdown",
   "id": "33c31799",
   "metadata": {},
   "source": [
    "22: Given an array with n objects colored red, white, or blue, sort them in-place so that objects of\n",
    "the same color are adjacent, with the colors in the order red, white, and blue.\n",
    "Input: nums = [2, 0, 2, 1, 1, 0]\n",
    "Output: [0, 0, 1, 1, 2, 2]"
   ]
  },
  {
   "cell_type": "code",
   "execution_count": 11,
   "id": "9e698019",
   "metadata": {},
   "outputs": [
    {
     "name": "stdout",
     "output_type": "stream",
     "text": [
      "Sorted array: [0, 0, 1, 1, 2, 2]\n"
     ]
    }
   ],
   "source": [
    "def sort_colors(nums):\n",
    "    low, mid, high = 0, 0, len(nums) - 1\n",
    "    \n",
    "    while mid <= high:\n",
    "        if nums[mid] == 0:\n",
    "            # Swap nums[low] and nums[mid], increment low and mid\n",
    "            nums[low], nums[mid] = nums[mid], nums[low]\n",
    "            low += 1\n",
    "            mid += 1\n",
    "        elif nums[mid] == 1:\n",
    "            # Move mid to the right\n",
    "            mid += 1\n",
    "        else:  # nums[mid] == 2\n",
    "            # Swap nums[mid] and nums[high], decrement high\n",
    "            nums[high], nums[mid] = nums[mid], nums[high]\n",
    "            high -= 1\n",
    "\n",
    "# Example usage\n",
    "nums = [2, 0, 2, 1, 1, 0]\n",
    "sort_colors(nums)\n",
    "print(\"Sorted array:\", nums)  # Output should be [0, 0, 1, 1, 2, 2]\n"
   ]
  },
  {
   "cell_type": "markdown",
   "id": "0ea65e53",
   "metadata": {},
   "source": [
    "23: Find the kth largest element in an unsorted array.\n",
    "Input: nums = [3, 2, 1, 5, 6, 4], k = 2\n",
    "Output: 5"
   ]
  },
  {
   "cell_type": "code",
   "execution_count": 10,
   "id": "f4742069",
   "metadata": {},
   "outputs": [
    {
     "name": "stdout",
     "output_type": "stream",
     "text": [
      "The 2th largest element is: 5\n"
     ]
    }
   ],
   "source": [
    "import random\n",
    "\n",
    "def quickselect(nums, left, right, k):\n",
    "    if left == right:\n",
    "        return nums[left]\n",
    "    \n",
    "    pivot_index = random.randint(left, right)\n",
    "    pivot_index = partition(nums, left, right, pivot_index)\n",
    "    \n",
    "    # The pivot is in its final sorted position\n",
    "    if k == pivot_index:\n",
    "        return nums[k]\n",
    "    elif k < pivot_index:\n",
    "        return quickselect(nums, left, pivot_index - 1, k)\n",
    "    else:\n",
    "        return quickselect(nums, pivot_index + 1, right, k)\n",
    "\n",
    "def partition(nums, left, right, pivot_index):\n",
    "    pivot_value = nums[pivot_index]\n",
    "    # Move pivot to end\n",
    "    nums[pivot_index], nums[right] = nums[right], nums[pivot_index]\n",
    "    store_index = left\n",
    "    \n",
    "    # Move all smaller elements to the left\n",
    "    for i in range(left, right):\n",
    "        if nums[i] < pivot_value:\n",
    "            nums[store_index], nums[i] = nums[i], nums[store_index]\n",
    "            store_index += 1\n",
    "    \n",
    "    # Move pivot to its final place\n",
    "    nums[right], nums[store_index] = nums[store_index], nums[right]\n",
    "    return store_index\n",
    "\n",
    "def find_kth_largest(nums, k):\n",
    "    # Convert k to zero-based index for easier calculation\n",
    "    k = len(nums) - k\n",
    "    return quickselect(nums, 0, len(nums) - 1, k)\n",
    "\n",
    "# Example usage\n",
    "nums = [3, 2, 1, 5, 6, 4]\n",
    "k = 2\n",
    "print(\"The {}th largest element is:\".format(k), find_kth_largest(nums, k))  # Output should be 5\n"
   ]
  },
  {
   "cell_type": "markdown",
   "id": "6c2b0cd5",
   "metadata": {},
   "source": [
    "24: Given an unsorted array, reorder it in-place such that nums[0] <= nums[1] >= nums[2] <=\n",
    "nums[3]...\n",
    "Input: nums = [3, 5, 2, 1, 6, 4]\n",
    "Output: [3, 5, 1, 6, 2, 4]"
   ]
  },
  {
   "cell_type": "code",
   "execution_count": 9,
   "id": "ef2f820b",
   "metadata": {},
   "outputs": [
    {
     "name": "stdout",
     "output_type": "stream",
     "text": [
      "Reordered array: [3, 5, 1, 6, 2, 4]\n"
     ]
    }
   ],
   "source": [
    "def wiggle_sort(nums):\n",
    "    # Traverse the array\n",
    "    for i in range(len(nums)):\n",
    "        # If we are at an even index, ensure nums[i] <= nums[i + 1]\n",
    "        if i % 2 == 0:\n",
    "            if i + 1 < len(nums) and nums[i] > nums[i + 1]:\n",
    "                nums[i], nums[i + 1] = nums[i + 1], nums[i]\n",
    "        # If we are at an odd index, ensure nums[i] >= nums[i + 1]\n",
    "        else:\n",
    "            if i + 1 < len(nums) and nums[i] < nums[i + 1]:\n",
    "                nums[i], nums[i + 1] = nums[i + 1], nums[i]\n",
    "\n",
    "# Example usage\n",
    "nums = [3, 5, 2, 1, 6, 4]\n",
    "wiggle_sort(nums)\n",
    "print(\"Reordered array:\", nums)  # Output should be [3, 5, 1, 6, 2, 4]\n"
   ]
  },
  {
   "cell_type": "markdown",
   "id": "4b5dc0c5",
   "metadata": {},
   "source": [
    "25: Given an array of integers, calculate the sum of all its elements.\n",
    "Input: [1, 2, 3, 4, 5]\n",
    "Output: 15"
   ]
  },
  {
   "cell_type": "code",
   "execution_count": 8,
   "id": "151bce20",
   "metadata": {},
   "outputs": [
    {
     "name": "stdout",
     "output_type": "stream",
     "text": [
      "Sum of elements: 15\n"
     ]
    }
   ],
   "source": [
    "def sum_of_elements(nums):\n",
    "    total_sum = 0\n",
    "    for num in nums:\n",
    "        total_sum += num\n",
    "    return total_sum\n",
    "\n",
    "# Example usage\n",
    "nums = [1, 2, 3, 4, 5]\n",
    "print(\"Sum of elements:\", sum_of_elements(nums))  # Output should be 15\n"
   ]
  },
  {
   "cell_type": "markdown",
   "id": "f811f6bd",
   "metadata": {},
   "source": [
    "26: Find the maximum element in an array of integers.\n",
    "Input: [3, 7, 2, 9, 4, 1]\n",
    "Output: 9"
   ]
  },
  {
   "cell_type": "code",
   "execution_count": 7,
   "id": "bc2b4739",
   "metadata": {},
   "outputs": [
    {
     "name": "stdout",
     "output_type": "stream",
     "text": [
      "Maximum element: 9\n"
     ]
    }
   ],
   "source": [
    "def find_max_element(nums):\n",
    "    if not nums:\n",
    "        raise ValueError(\"The array is empty\")\n",
    "    \n",
    "    max_element = nums[0]\n",
    "    for num in nums:\n",
    "        if num > max_element:\n",
    "            max_element = num\n",
    "    return max_element\n",
    "\n",
    "# Example usage\n",
    "nums = [3, 7, 2, 9, 4, 1]\n",
    "print(\"Maximum element:\", find_max_element(nums))  # Output should be 9\n"
   ]
  },
  {
   "cell_type": "markdown",
   "id": "77f3da0a",
   "metadata": {},
   "source": [
    "27: Implement linear search to find the index of a target element in an array.\n",
    "Input: [5, 3, 8, 2, 7, 4], target = 8\n",
    "Output: 2"
   ]
  },
  {
   "cell_type": "code",
   "execution_count": 6,
   "id": "32fc396f",
   "metadata": {},
   "outputs": [
    {
     "name": "stdout",
     "output_type": "stream",
     "text": [
      "Index of target: 2\n"
     ]
    }
   ],
   "source": [
    "def linear_search(nums, target):\n",
    "    for index, value in enumerate(nums):\n",
    "        if value == target:\n",
    "            return index\n",
    "    return -1  # Return -1 if the target is not found\n",
    "\n",
    "# Example usage\n",
    "nums = [5, 3, 8, 2, 7, 4]\n",
    "target = 8\n",
    "print(\"Index of target:\", linear_search(nums, target))  # Output should be 2\n"
   ]
  },
  {
   "cell_type": "markdown",
   "id": "d7ea22e3",
   "metadata": {},
   "source": [
    "28 Calculate the factorial of a given number.\n",
    "Input: 5\n",
    "Output: 120 (as 5! = 5 * 4 * 3 * 2 * 1 = 120)"
   ]
  },
  {
   "cell_type": "code",
   "execution_count": 5,
   "id": "06238458",
   "metadata": {},
   "outputs": [
    {
     "name": "stdout",
     "output_type": "stream",
     "text": [
      "Factorial (iterative): 120\n"
     ]
    }
   ],
   "source": [
    "def factorial_iterative(n):\n",
    "    if n < 0:\n",
    "        raise ValueError(\"Factorial is not defined for negative numbers\")\n",
    "    \n",
    "    result = 1\n",
    "    for i in range(1, n + 1):\n",
    "        result *= i\n",
    "    return result\n",
    "\n",
    "# Example usage\n",
    "num = 5\n",
    "print(\"Factorial (iterative):\", factorial_iterative(num))  # Output should be 120\n"
   ]
  },
  {
   "cell_type": "markdown",
   "id": "bc25bc11",
   "metadata": {},
   "source": [
    "29: Check if a given number is a prime number.\n",
    "Input: 7\n",
    "Output: True"
   ]
  },
  {
   "cell_type": "code",
   "execution_count": 4,
   "id": "829d4ca4",
   "metadata": {},
   "outputs": [
    {
     "name": "stdout",
     "output_type": "stream",
     "text": [
      "Is the number prime? True\n"
     ]
    }
   ],
   "source": [
    "import math\n",
    "\n",
    "def is_prime(num):\n",
    "    if num <= 1:\n",
    "        return False\n",
    "    if num <= 3:\n",
    "        return True\n",
    "    if num % 2 == 0 or num % 3 == 0:\n",
    "        return False\n",
    "    i = 5\n",
    "    while i * i <= num:\n",
    "        if num % i == 0 or num % (i + 2) == 0:\n",
    "            return False\n",
    "        i += 6\n",
    "    return True\n",
    "\n",
    "# Example usage\n",
    "num = 7\n",
    "print(\"Is the number prime?\", is_prime(num))  # Output should be True\n"
   ]
  },
  {
   "cell_type": "markdown",
   "id": "db1be9d5",
   "metadata": {},
   "source": [
    "30: Generate the Fibonacci series up to a given number n.\n",
    "Input: 8\n",
    "Output: [0, 1, 1, 2, 3, 5, 8, 13]"
   ]
  },
  {
   "cell_type": "code",
   "execution_count": 3,
   "id": "81ac9c37",
   "metadata": {},
   "outputs": [
    {
     "name": "stdout",
     "output_type": "stream",
     "text": [
      "Fibonacci series up to 8 : [0, 1, 1, 2, 3, 5, 8]\n"
     ]
    }
   ],
   "source": [
    "def generate_fibonacci_up_to(n):\n",
    "    if n < 0:\n",
    "        raise ValueError(\"Input must be a non-negative integer\")\n",
    "    \n",
    "    fibonacci_series = []\n",
    "    a, b = 0, 1\n",
    "    \n",
    "    while a <= n:\n",
    "        fibonacci_series.append(a)\n",
    "        a, b = b, a + b\n",
    "    \n",
    "    return fibonacci_series\n",
    "\n",
    "# Example usage\n",
    "n = 8\n",
    "print(\"Fibonacci series up to\", n, \":\", generate_fibonacci_up_to(n))  # Output should be [0, 1, 1, 2, 3, 5, 8]\n"
   ]
  },
  {
   "cell_type": "markdown",
   "id": "89febd3b",
   "metadata": {},
   "source": [
    "31: Calculate the power of a number using recursion.\n",
    "Input: base = 3, exponent = 4\n",
    "Output: 81 (as 3^4 = 3 * 3 * 3 * 3 = 81)"
   ]
  },
  {
   "cell_type": "code",
   "execution_count": 2,
   "id": "776554db",
   "metadata": {},
   "outputs": [
    {
     "name": "stdout",
     "output_type": "stream",
     "text": [
      "Power: 81\n"
     ]
    }
   ],
   "source": [
    "def power(base, exponent):\n",
    "    # Base case\n",
    "    if exponent == 0:\n",
    "        return 1\n",
    "    # Recursive case\n",
    "    return base * power(base, exponent - 1)\n",
    "\n",
    "# Example usage\n",
    "base = 3\n",
    "exponent = 4\n",
    "print(\"Power:\", power(base, exponent))  # Output should be 81\n"
   ]
  },
  {
   "cell_type": "markdown",
   "id": "2c3cda7f",
   "metadata": {},
   "source": [
    "32: Reverse a given string.\n",
    "Input: \"hello\"\n",
    "Output: \"olleh\""
   ]
  },
  {
   "cell_type": "code",
   "execution_count": 1,
   "id": "c973dd7a",
   "metadata": {},
   "outputs": [
    {
     "name": "stdout",
     "output_type": "stream",
     "text": [
      "Reversed string (slicing): olleh\n"
     ]
    }
   ],
   "source": [
    "def reverse_string_slicing(s):\n",
    "    return s[::-1]\n",
    "\n",
    "# Example usage\n",
    "input_string = \"hello\"\n",
    "print(\"Reversed string (slicing):\", reverse_string_slicing(input_string))  # Output should be \"olleh\"\n"
   ]
  },
  {
   "cell_type": "code",
   "execution_count": null,
   "id": "e84ee822",
   "metadata": {},
   "outputs": [],
   "source": []
  }
 ],
 "metadata": {
  "kernelspec": {
   "display_name": "Python 3 (ipykernel)",
   "language": "python",
   "name": "python3"
  },
  "language_info": {
   "codemirror_mode": {
    "name": "ipython",
    "version": 3
   },
   "file_extension": ".py",
   "mimetype": "text/x-python",
   "name": "python",
   "nbconvert_exporter": "python",
   "pygments_lexer": "ipython3",
   "version": "3.11.4"
  }
 },
 "nbformat": 4,
 "nbformat_minor": 5
}
