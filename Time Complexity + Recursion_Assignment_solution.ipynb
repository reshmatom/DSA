{
 "cells": [
  {
   "cell_type": "code",
   "execution_count": null,
   "id": "4634bfb0-c433-46df-9ab4-37fd9990d558",
   "metadata": {},
   "outputs": [],
   "source": [
    "Find time complexity of below code blocks :"
   ]
  },
  {
   "cell_type": "code",
   "execution_count": null,
   "id": "ddb9e008-57b0-455c-8af1-8bb45307b4cc",
   "metadata": {},
   "outputs": [],
   "source": [
    "Problem 1 :\n",
    "def quicksort(arr):\n",
    "if len(arr) <= 1:\n",
    "return arr\n",
    "pivot = arr[len(arr) // 2]\n",
    "left = [x for x in arr if x < pivot]\n",
    "middle = [x for x in arr if x == pivot]\n",
    "right = [x for x in arr if x > pivot]\n",
    "return quicksort(left) + middle + quicksort(right)"
   ]
  },
  {
   "cell_type": "markdown",
   "id": "5857df77-950c-4188-a0df-cb9de40a8975",
   "metadata": {},
   "source": [
    "Time Complexity Analysis:\n",
    "Best Case:\n",
    "\n",
    "Occurs when the pivot divides the array into two equal halves every time.\n",
    "The recurrence relation for the best case is T(n) = 2T(2n)+O(n), which simplifies to O(nlogn).\n",
    "\n",
    "Average Case:\n",
    "Similar to the best case, the pivot generally divides the array into reasonably balanced partitions.\n",
    "The average-case time complexity is also O(nlogn).\n",
    "Worst Case:\n",
    "Occurs when the pivot is the smallest or largest element, leading to highly unbalanced partitions (e.g., one subarray has n−1 elements and the other has 0).\n",
    "The recurrence relation in the worst case is T(n)=T(n−1)+O(n), which simplifies to O(n^2).\n",
    "Summary:\n",
    "Best and Average Case Time Complexity: O(nlogn)\n",
    "Worst Case Time Complexity: 𝑂(𝑛^2)\n"
   ]
  },
  {
   "cell_type": "code",
   "execution_count": null,
   "id": "d946c3ec-3fcc-4162-96bb-5b582fd837e9",
   "metadata": {},
   "outputs": [],
   "source": [
    "Problem 2 :\n",
    "def nested_loop_example(matrix):\n",
    "rows, cols = len(matrix), len(matrix[0])\n",
    "total = 0\n",
    "for i in range(rows):\n",
    "for j in range(cols):\n",
    "total += matrix[i][j]\n",
    "return total"
   ]
  },
  {
   "cell_type": "code",
   "execution_count": null,
   "id": "f486d482-96cc-40e9-9c3b-e61859672d69",
   "metadata": {},
   "outputs": [],
   "source": [
    "Time Complexity: \n",
    "O(n×m), where n is the number of rows and m is the number of columns in the matrix."
   ]
  },
  {
   "cell_type": "code",
   "execution_count": null,
   "id": "a74b8d45-4281-4db3-9fce-e3536a1edf8f",
   "metadata": {},
   "outputs": [],
   "source": [
    "Problem 3 :\n",
    "def example_function(arr):\n",
    "result = 0\n",
    "for element in arr:\n",
    "result += element\n",
    "return result"
   ]
  },
  {
   "cell_type": "code",
   "execution_count": null,
   "id": "99e9afa3-7ee7-4cc8-9400-cf11ff49f8c4",
   "metadata": {},
   "outputs": [],
   "source": [
    "Time Complexity=O(n)"
   ]
  },
  {
   "cell_type": "code",
   "execution_count": null,
   "id": "c5c439a2-95eb-4636-91c0-e64474c808a7",
   "metadata": {},
   "outputs": [],
   "source": [
    "Problem 4 :\n",
    "def longest_increasing_subsequence(nums):\n",
    "n = len(nums)\n",
    "lis = [1] * n\n",
    "for i in range(1, n):\n",
    "for j in range(0, i):\n",
    "if nums[i] > nums[j] and lis[i] < lis[j] + 1:\n",
    "lis[i] = lis[j] + 1\n",
    "return max(lis)"
   ]
  },
  {
   "cell_type": "code",
   "execution_count": null,
   "id": "285cb123-975e-48db-b8fd-364b11c3ea62",
   "metadata": {},
   "outputs": [],
   "source": [
    "Time Complexity: O(n^2)"
   ]
  },
  {
   "cell_type": "code",
   "execution_count": null,
   "id": "8b11b12a-acf8-4335-a556-3f0cb91322ef",
   "metadata": {},
   "outputs": [],
   "source": [
    "Problem 5 :\n",
    "def mysterious_function(arr):\n",
    "n = len(arr)\n",
    "result = 0\n",
    "for i in range(n):\n",
    "for j in range(i, n):\n",
    "result += arr[i] * arr[j]\n",
    "return result"
   ]
  },
  {
   "cell_type": "code",
   "execution_count": null,
   "id": "6f1a6aac-ce9b-4c78-93fb-0180fc63b67a",
   "metadata": {},
   "outputs": [],
   "source": [
    "Time Complexity: O(n^2)"
   ]
  },
  {
   "cell_type": "code",
   "execution_count": null,
   "id": "ab0d1409-2299-4726-9052-7b88672f539c",
   "metadata": {},
   "outputs": [],
   "source": [
    "Solve the following problems on recursion:"
   ]
  },
  {
   "cell_type": "code",
   "execution_count": null,
   "id": "49f57898-ab75-435e-84e4-35adcbc26036",
   "metadata": {},
   "outputs": [],
   "source": [
    "Problem 6 : Sum of Digits\n",
    "Write a recursive function to calculate the sum of digits of a given positive integer.\n",
    "sum_of_digits(123) -> 6"
   ]
  },
  {
   "cell_type": "code",
   "execution_count": 1,
   "id": "1c57e71c-5153-4fb2-a032-a4210efe24ea",
   "metadata": {},
   "outputs": [
    {
     "name": "stdout",
     "output_type": "stream",
     "text": [
      "6\n"
     ]
    }
   ],
   "source": [
    "def sum_of_digits(n):\n",
    "    # Base case: if n is a single digit, return n\n",
    "    if n == 0:\n",
    "        return 0\n",
    "    else:\n",
    "        # Recursive case: sum the last digit and the sum of the remaining digits\n",
    "        return n % 10 + sum_of_digits(n // 10)\n",
    "\n",
    "# Example usage\n",
    "result = sum_of_digits(123)\n",
    "print(result) \n"
   ]
  },
  {
   "cell_type": "code",
   "execution_count": null,
   "id": "fac76389-22e8-4448-a3a2-99f10c63365d",
   "metadata": {},
   "outputs": [],
   "source": [
    "Problem 7: Fibonacci Series\n",
    "Write a recursive function to generate the first n numbers of the Fibonacci series.\n",
    "fibonacci_series(6) -> [0, 1, 1, 2, 3, 5]"
   ]
  },
  {
   "cell_type": "code",
   "execution_count": 2,
   "id": "0b1bf446-27fe-4934-882c-75449ef8b2f5",
   "metadata": {},
   "outputs": [
    {
     "name": "stdout",
     "output_type": "stream",
     "text": [
      "[0, 1, 1, 2, 3, 5]\n"
     ]
    }
   ],
   "source": [
    "def fibonacci_series(n):\n",
    "    # Base cases for the first and second Fibonacci numbers\n",
    "    if n <= 0:\n",
    "        return []\n",
    "    elif n == 1:\n",
    "        return [0]\n",
    "    elif n == 2:\n",
    "        return [0, 1]\n",
    "    else:\n",
    "        # Recursively build the Fibonacci sequence for the first n-1 numbers\n",
    "        series = fibonacci_series(n - 1)\n",
    "        # Append the next Fibonacci number\n",
    "        series.append(series[-1] + series[-2])\n",
    "        return series\n",
    "\n",
    "# Example usage\n",
    "result = fibonacci_series(6)\n",
    "print(result)  \n"
   ]
  },
  {
   "cell_type": "code",
   "execution_count": null,
   "id": "a935986d-20c4-4f7d-b9b5-b26ac6da445c",
   "metadata": {},
   "outputs": [],
   "source": [
    "Problem 8 : Subset Sum\n",
    "Given a set of positive integers and a target sum, write a recursive function to determine if there exists a subset\n",
    "of the integers that adds up to the target sum.\n",
    "subset_sum([3, 34, 4, 12, 5, 2], 9) -> True"
   ]
  },
  {
   "cell_type": "code",
   "execution_count": 3,
   "id": "4bfe7967-a61b-4b1d-9293-51c9ef795088",
   "metadata": {},
   "outputs": [
    {
     "name": "stdout",
     "output_type": "stream",
     "text": [
      "True\n"
     ]
    }
   ],
   "source": [
    "def subset_sum(arr, target_sum):\n",
    "    # Base cases\n",
    "    if target_sum == 0:\n",
    "        return True  # There's always a subset with sum 0 (the empty subset)\n",
    "    if not arr:\n",
    "        return False  # No numbers left to consider and target_sum is not 0\n",
    "    \n",
    "    # Consider the last element in the array\n",
    "    last_element = arr[-1]\n",
    "    remaining_arr = arr[:-1]\n",
    "\n",
    "    # Check if target_sum can be obtained by either including or excluding the last element\n",
    "    # Exclude the last element\n",
    "    exclude_last = subset_sum(remaining_arr, target_sum)\n",
    "    \n",
    "    # Include the last element (only if it does not exceed target_sum)\n",
    "    include_last = (last_element <= target_sum) and subset_sum(remaining_arr, target_sum - last_element)\n",
    "    \n",
    "    return exclude_last or include_last\n",
    "\n",
    "# Example usage\n",
    "result = subset_sum([3, 34, 4, 12, 5, 2], 9)\n",
    "print(result)  \n"
   ]
  },
  {
   "cell_type": "code",
   "execution_count": null,
   "id": "5ddfcd3e-d00d-4238-b10b-3bf96c4752d7",
   "metadata": {},
   "outputs": [],
   "source": [
    "Problem 9: Word Break\n",
    "Given a non-empty string and a dictionary of words, write a recursive function to determine if the string can be\n",
    "segmented into a space-separated sequence of dictionary words.\n",
    "word_break( leetcode , [ leet , code ]) -> True"
   ]
  },
  {
   "cell_type": "code",
   "execution_count": 4,
   "id": "6e59d740-1db1-475f-8d85-3eda8ab1f053",
   "metadata": {},
   "outputs": [
    {
     "name": "stdout",
     "output_type": "stream",
     "text": [
      "True\n"
     ]
    }
   ],
   "source": [
    "def word_break(s, word_dict):\n",
    "    # Base case: if the string is empty, return True\n",
    "    if not s:\n",
    "        return True\n",
    "    \n",
    "    # Try every possible prefix of the string\n",
    "    for i in range(1, len(s) + 1):\n",
    "        prefix = s[:i]\n",
    "        # If the prefix is in the dictionary, recursively check the remaining string\n",
    "        if prefix in word_dict:\n",
    "            if word_break(s[i:], word_dict):\n",
    "                return True\n",
    "    \n",
    "    # If no valid segmentation is found\n",
    "    return False\n",
    "\n",
    "# Example usage\n",
    "result = word_break(\"leetcode\", [\"leet\", \"code\"])\n",
    "print(result) \n"
   ]
  },
  {
   "cell_type": "code",
   "execution_count": null,
   "id": "dc043770-38ea-4f16-8bba-943a9ef0c04e",
   "metadata": {},
   "outputs": [],
   "source": [
    "Problem 10 : N-Queens\n",
    "Implement a recursive function to solve the N Queens problem, where you have to place N queens on an N×N\n",
    "chessboard in such a way that no two queens threaten each other.\n",
    "n_queens(4)\n",
    "[\n",
    "[\".Q..\",\n",
    "\"...Q\",\n",
    "\"Q...\",\n",
    "\"..Q.\"],\n",
    "[\"..Q.\",\n",
    "\"Q...\",\n",
    "\"...Q\",\n",
    "\".Q..\"]\n",
    "]"
   ]
  },
  {
   "cell_type": "code",
   "execution_count": 15,
   "id": "a18d4a3f-a5a9-4ede-a66b-3dc216b902b3",
   "metadata": {},
   "outputs": [
    {
     "name": "stdout",
     "output_type": "stream",
     "text": [
      ".Q..\n",
      "...Q\n",
      "Q...\n",
      "..Q.\n",
      "\n",
      "..Q.\n",
      "Q...\n",
      "...Q\n",
      ".Q..\n",
      "\n"
     ]
    }
   ],
   "source": [
    "def n_queens(n):\n",
    "    def is_valid(board, row, col):\n",
    "        # Check column and diagonals\n",
    "        for i in range(row):\n",
    "            if board[i] == col or \\\n",
    "               board[i] - i == col - row or \\\n",
    "               board[i] + i == col + row:\n",
    "                return False\n",
    "        return True\n",
    "\n",
    "    def solve(row):\n",
    "        if row == n:\n",
    "            # All queens are placed, add the board to the result\n",
    "            solution = []\n",
    "            for i in range(n):\n",
    "                row_str = '.' * board[i] + 'Q' + '.' * (n - board[i] - 1)\n",
    "                solution.append(row_str)\n",
    "            result.append(solution)\n",
    "            return\n",
    "        \n",
    "        for col in range(n):\n",
    "            if is_valid(board, row, col):\n",
    "                board[row] = col\n",
    "                solve(row + 1)\n",
    "                board[row] = -1  # Backtrack\n",
    "\n",
    "    result = []\n",
    "    board = [-1] * n\n",
    "    solve(0)\n",
    "    return result\n",
    "\n",
    "# Example usage\n",
    "result = n_queens(4)\n",
    "for solution in result:\n",
    "    for row in solution:\n",
    "        print(row)\n",
    "    print()\n",
    "\n"
   ]
  },
  {
   "cell_type": "code",
   "execution_count": null,
   "id": "1aa7b6a0-6094-4c54-b6b6-1a1b32ab3360",
   "metadata": {},
   "outputs": [],
   "source": []
  }
 ],
 "metadata": {
  "kernelspec": {
   "display_name": "Python 3 (ipykernel)",
   "language": "python",
   "name": "python3"
  },
  "language_info": {
   "codemirror_mode": {
    "name": "ipython",
    "version": 3
   },
   "file_extension": ".py",
   "mimetype": "text/x-python",
   "name": "python",
   "nbconvert_exporter": "python",
   "pygments_lexer": "ipython3",
   "version": "3.11.5"
  }
 },
 "nbformat": 4,
 "nbformat_minor": 5
}
